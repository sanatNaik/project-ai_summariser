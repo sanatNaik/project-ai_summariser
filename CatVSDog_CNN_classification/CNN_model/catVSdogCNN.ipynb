{
 "cells": [
  {
   "cell_type": "markdown",
   "id": "94160507-85ce-4ac0-b43f-17780b25e445",
   "metadata": {},
   "source": [
    "Importing libraries"
   ]
  },
  {
   "cell_type": "code",
   "execution_count": null,
   "id": "42762034-7ac6-4291-8adf-861617387375",
   "metadata": {},
   "outputs": [],
   "source": [
    "import pandas as pd\n",
    "import numpy as np\n",
    "import tensorflow as tf\n",
    "from tensorflow import keras\n",
    "from tensorflow.keras import layers, models\n",
    "import matplotlib.pyplot as plt\n",
    "import os\n",
    "import cv2\n",
    "import pickle"
   ]
  },
  {
   "cell_type": "markdown",
   "id": "3f80eb79-ec6c-40da-a012-c84df5594797",
   "metadata": {},
   "source": [
    "The dataset with 25000 images was loaded on to Google Colab, the data retrieved and stored as pickle file.\n",
    "It is now retrieved on this jupyter notebook"
   ]
  },
  {
   "cell_type": "code",
   "execution_count": 6,
   "id": "52b3d424-39e3-4d53-a2b8-82b449c0f06f",
   "metadata": {},
   "outputs": [],
   "source": [
    "with open(\"data.pkl\", \"rb\") as f:\n",
    "    loaded_data = pickle.load(f)"
   ]
  },
  {
   "cell_type": "code",
   "execution_count": 8,
   "id": "8961739b-4271-40b4-8af9-53a802fd8b93",
   "metadata": {},
   "outputs": [],
   "source": [
    "loaded_data = np.array(loaded_data, dtype=object)"
   ]
  },
  {
   "cell_type": "code",
   "execution_count": 18,
   "id": "1ca9ba22-5a28-4cda-82af-2f75ab830856",
   "metadata": {},
   "outputs": [],
   "source": [
    "id = np.array([row[0] for row in loaded_data],dtype= np.uint32)\n",
    "pixels = np.array([row[1] for row in loaded_data],dtype= np.uint8)\n",
    "label = np.array([row[2] for row in loaded_data],dtype= np.uint8)"
   ]
  },
  {
   "cell_type": "code",
   "execution_count": 24,
   "id": "5e31b74e-de58-47b1-89ed-c14774dbaaa8",
   "metadata": {},
   "outputs": [],
   "source": [
    "datatype = [(\"id\",np.uint32),(\"pixels\",np.uint8,(128,128,3)),(\"label\",np.uint8)]"
   ]
  },
  {
   "cell_type": "code",
   "execution_count": 26,
   "id": "f24fe2fb-6dbb-4076-b52d-0af14738ebd8",
   "metadata": {},
   "outputs": [],
   "source": [
    "dataset = np.array(list(zip(id,pixels,label)),dtype=datatype)"
   ]
  },
  {
   "cell_type": "code",
   "execution_count": 28,
   "id": "fbcbc318-5735-4217-93d0-4482137e4248",
   "metadata": {},
   "outputs": [],
   "source": [
    "np.save('dataset.npy',dataset)"
   ]
  },
  {
   "cell_type": "code",
   "execution_count": 30,
   "id": "95d31ea5-9cea-4e25-ba3d-894cefc42901",
   "metadata": {},
   "outputs": [
    {
     "data": {
      "text/plain": [
       "24946"
      ]
     },
     "execution_count": 30,
     "metadata": {},
     "output_type": "execute_result"
    }
   ],
   "source": [
    "len(dataset)"
   ]
  },
  {
   "cell_type": "code",
   "execution_count": 32,
   "id": "2599ae1a-70af-490c-a951-cc09e83a69a7",
   "metadata": {},
   "outputs": [],
   "source": [
    "dataset = np.load(\"dataset.npy\", allow_pickle=True)"
   ]
  },
  {
   "cell_type": "code",
   "execution_count": 34,
   "id": "293a685a-022d-42b1-985c-76337ed32327",
   "metadata": {},
   "outputs": [
    {
     "data": {
      "text/plain": [
       "array([( 3707, [[[ 96, 125, 134], [ 96, 125, 134], [ 99, 124, 134], ..., [171, 179, 171], [172, 179, 172], [170, 177, 170]], [[ 96, 125, 134], [ 96, 124, 134], [100, 125, 135], ..., [173, 180, 173], [173, 180, 173], [172, 179, 172]], [[ 94, 123, 132], [ 96, 124, 134], [ 98, 123, 133], ..., [181, 187, 181], [174, 181, 174], [170, 178, 170]], ..., [[162, 190, 197], [161, 190, 198], [152, 182, 193], ..., [128, 143, 149], [139, 152, 155], [132, 144, 148]], [[176, 200, 205], [176, 200, 207], [158, 185, 192], ..., [131, 146, 151], [134, 146, 150], [124, 135, 136]], [[176, 195, 202], [173, 192, 199], [178, 197, 204], ..., [137, 149, 152], [135, 144, 147], [ 97,  97,  97]]], 0),\n",
       "       ( 8927, [[[165, 158, 109], [160, 156, 106], [165, 160, 111], ..., [158, 156, 102], [160, 159, 103], [168, 167, 111]], [[163, 156, 106], [164, 160, 109], [167, 162, 112], ..., [162, 160, 106], [162, 161, 105], [159, 158, 102]], [[160, 156, 100], [164, 161, 106], [168, 164, 112], ..., [161, 159, 105], [158, 157, 101], [161, 160, 104]], ..., [[ 97,  97,  37], [111, 111,  51], [109, 108,  50], ..., [125, 122,  69], [123, 121,  67], [123, 122,  67]], [[ 93,  92,  34], [ 99,  98,  40], [102, 101,  43], ..., [129, 125,  75], [123, 121,  69], [120, 118,  64]], [[ 97,  96,  38], [ 95,  94,  36], [ 98,  97,  40], ..., [126, 124,  75], [120, 118,  68], [123, 122,  70]]], 0),\n",
       "       (  531, [[[146, 144, 157], [145, 143, 156], [142, 140, 152], ..., [ 77,  76,  84], [ 78,  79,  83], [ 76,  79,  77]], [[147, 144, 159], [144, 140, 156], [144, 141, 157], ..., [ 78,  78,  85], [ 75,  76,  80], [ 74,  79,  78]], [[144, 145, 155], [143, 144, 154], [139, 139, 151], ..., [ 74,  77,  84], [ 77,  78,  83], [ 79,  80,  83]], ..., [[110, 109, 113], [108, 107, 112], [101, 101, 106], ..., [ 21,  23,  23], [ 19,  21,  21], [ 19,  21,  21]], [[119, 117, 124], [120, 118, 128], [114, 112, 123], ..., [ 20,  21,  22], [ 19,  21,  21], [ 21,  21,  22]], [[111, 104, 117], [129, 124, 133], [113, 109, 115], ..., [ 20,  22,  22], [ 25,  27,  28], [ 24,  24,  29]]], 0),\n",
       "       ...,\n",
       "       (10159, [[[210, 213, 204], [250, 253, 245], [218, 222, 216], ..., [182, 197, 206], [173, 188, 197], [167, 181, 191]], [[205, 208, 199], [251, 254, 246], [220, 224, 219], ..., [178, 192, 201], [173, 187, 196], [173, 184, 195]], [[199, 202, 193], [246, 249, 241], [225, 229, 224], ..., [176, 188, 197], [172, 183, 193], [174, 186, 196]], ..., [[223, 234, 221], [216, 227, 214], [213, 223, 210], ..., [177, 184, 169], [171, 178, 163], [175, 182, 167]], [[216, 226, 213], [217, 228, 214], [214, 224, 211], ..., [191, 198, 183], [182, 189, 174], [172, 179, 164]], [[217, 228, 212], [211, 222, 206], [213, 224, 208], ..., [174, 180, 163], [178, 183, 168], [171, 175, 163]]], 1),\n",
       "       (10864, [[[ 37,  66, 103], [ 36,  65, 102], [ 41,  70, 107], ..., [ 50,  78, 112], [ 43,  71, 105], [ 45,  73, 107]], [[ 45,  74, 111], [ 45,  74, 112], [ 48,  77, 114], ..., [ 50,  78, 112], [ 42,  70, 104], [ 45,  73, 107]], [[ 49,  81, 117], [ 47,  79, 115], [ 43,  75, 111], ..., [ 51,  79, 113], [ 50,  78, 112], [ 53,  81, 115]], ..., [[139, 183, 202], [125, 168, 187], [119, 163, 184], ..., [157, 211, 224], [148, 201, 216], [152, 198, 216]], [[ 98, 133, 152], [119, 156, 175], [121, 162, 183], ..., [148, 205, 218], [136, 190, 204], [166, 212, 231]], [[110, 141, 160], [135, 169, 188], [141, 182, 201], ..., [135, 192, 206], [139, 194, 210], [141, 185, 207]]], 1),\n",
       "       ( 5483, [[[  4,   6,  11], [  7,  11,  19], [  7,   9,  18], ..., [ 85,  78,  58], [ 87,  80,  60], [ 91,  86,  61]], [[  7,  10,  12], [ 11,  16,  18], [ 14,  18,  20], ..., [ 90,  83,  63], [ 90,  83,  63], [ 89,  83,  59]], [[ 13,  16,  17], [ 11,  16,  17], [ 15,  20,  20], ..., [ 91,  84,  64], [ 90,  83,  63], [ 90,  84,  61]], ..., [[ 25,  41,  48], [ 21,  37,  43], [ 26,  41,  47], ..., [ 28,  51,  78], [ 27,  44,  70], [ 37,  51,  73]], [[ 25,  42,  45], [ 26,  42,  45], [ 33,  46,  50], ..., [ 16,  42,  71], [ 34,  49,  67], [ 30,  44,  63]], [[ 24,  41,  44], [ 26,  43,  46], [ 29,  44,  47], ..., [ 15,  41,  70], [ 34,  49,  67], [ 28,  42,  61]]], 1)],\n",
       "      dtype=[('id', '<u4'), ('pixels', 'u1', (128, 128, 3)), ('label', 'u1')])"
      ]
     },
     "execution_count": 34,
     "metadata": {},
     "output_type": "execute_result"
    }
   ],
   "source": [
    "dataset"
   ]
  },
  {
   "cell_type": "code",
   "execution_count": 36,
   "id": "d401b51f-3150-4673-a6d1-8cd49a00cd64",
   "metadata": {},
   "outputs": [
    {
     "data": {
      "text/plain": [
       "24946"
      ]
     },
     "execution_count": 36,
     "metadata": {},
     "output_type": "execute_result"
    }
   ],
   "source": [
    "len(dataset)"
   ]
  },
  {
   "cell_type": "code",
   "execution_count": 38,
   "id": "d9f9193c-5e36-4d5a-9533-4800a5075f8b",
   "metadata": {},
   "outputs": [],
   "source": [
    "np.random.shuffle(dataset)"
   ]
  },
  {
   "cell_type": "markdown",
   "id": "21d0f395-a1e3-4151-b24e-a57b0756bcda",
   "metadata": {},
   "source": [
    "The dataset was randomly shuffled as the earlier data set contained the images of dogs and cats seperately."
   ]
  },
  {
   "cell_type": "code",
   "execution_count": 40,
   "id": "7eddd931-22ce-4642-bcf1-d6ac78a6ebdb",
   "metadata": {},
   "outputs": [
    {
     "data": {
      "text/plain": [
       "array([(11419, [[[ 29,  37,  42], [ 39,  48,  52], [ 32,  43,  47], ..., [ 56,  70,  76], [ 34,  51,  57], [ 47,  67,  72]], [[ 41,  50,  54], [ 34,  44,  48], [ 37,  48,  52], ..., [ 68,  82,  89], [ 53,  71,  76], [ 30,  50,  55]], [[ 43,  51,  58], [ 46,  56,  63], [ 48,  60,  66], ..., [ 59,  75,  82], [ 50,  68,  75], [ 46,  65,  72]], ..., [[ 44,  57,  65], [ 38,  55,  59], [ 38,  47,  48], ..., [110, 128, 139], [108, 129, 141], [ 60,  86, 100]], [[ 43,  56,  64], [ 58,  75,  79], [ 48,  59,  60], ..., [100, 118, 129], [ 83, 105, 116], [ 80, 105, 121]], [[ 37,  50,  58], [ 37,  54,  58], [ 52,  63,  64], ..., [ 89, 107, 118], [ 79, 101, 113], [103, 129, 144]]], 0),\n",
       "       (10683, [[[  3,  10,   7], [  3,  10,   7], [  8,  15,  12], ..., [  4,  18,  14], [  4,  18,  14], [  4,  19,  11]], [[  1,   8,   5], [  1,   8,   5], [  2,   9,   6], ..., [  4,  18,  14], [  4,  18,  14], [  5,  20,  13]], [[  2,   9,   6], [  2,   9,   6], [  4,  11,   8], ..., [  4,  18,  14], [  4,  18,  14], [  5,  21,  14]], ..., [[127, 134, 142], [114, 120, 130], [108, 114, 125], ..., [147, 150, 124], [150, 153, 127], [148, 150, 124]], [[121, 125, 136], [108, 114, 125], [114, 123, 133], ..., [147, 150, 124], [147, 151, 124], [152, 152, 126]], [[136, 141, 150], [116, 123, 131], [108, 117, 126], ..., [148, 151, 125], [146, 149, 123], [153, 153, 126]]], 1),\n",
       "       ( 3921, [[[145, 174, 180], [144, 173, 178], [144, 174, 179], ..., [136, 165, 170], [138, 167, 168], [138, 166, 170]], [[142, 173, 176], [144, 174, 178], [147, 175, 182], ..., [142, 169, 172], [140, 167, 168], [138, 166, 168]], [[141, 171, 176], [145, 175, 179], [145, 175, 179], ..., [140, 168, 170], [140, 168, 170], [141, 168, 170]], ..., [[135, 165, 167], [138, 167, 171], [131, 160, 163], ..., [128, 155, 153], [131, 161, 160], [125, 152, 154]], [[139, 167, 169], [131, 163, 165], [109, 141, 146], ..., [134, 163, 164], [133, 167, 168], [109, 156, 145]], [[137, 169, 170], [116, 151, 155], [ 52,  74,  86], ..., [135, 165, 163], [110, 153, 156], [128, 164, 148]]], 1),\n",
       "       ...,\n",
       "       ( 7904, [[[130, 136, 135], [133, 139, 138], [130, 136, 135], ..., [ 83,  96, 108], [ 79,  90, 102], [ 78,  87, 100]], [[135, 141, 140], [132, 138, 137], [135, 141, 140], ..., [ 79,  91, 103], [ 78,  88, 101], [ 78,  87, 100]], [[137, 143, 142], [136, 142, 141], [135, 140, 140], ..., [ 83,  95, 107], [ 75,  86,  99], [ 72,  81,  94]], ..., [[ 60,  72,  84], [ 57,  69,  81], [ 49,  61,  74], ..., [ 52,  51,  53], [ 54,  52,  55], [ 54,  53,  55]], [[ 45,  57,  69], [ 48,  60,  72], [ 48,  60,  72], ..., [ 52,  52,  54], [ 55,  54,  56], [ 49,  48,  50]], [[ 47,  59,  71], [ 48,  60,  72], [ 56,  68,  80], ..., [ 53,  52,  53], [ 50,  49,  51], [ 43,  42,  44]]], 0),\n",
       "       ( 8695, [[[127, 135, 121], [ 53,  59,  47], [174, 159, 146], ..., [ 46,  48,  42], [ 44,  46,  40], [ 44,  49,  34]], [[124, 130, 114], [ 44,  50,  38], [197, 183, 171], ..., [ 43,  45,  39], [ 44,  47,  40], [ 45,  50,  35]], [[140, 142, 125], [ 40,  44,  31], [193, 181, 170], ..., [ 39,  42,  33], [ 45,  48,  39], [ 43,  48,  33]], ..., [[ 92, 131, 146], [ 94, 133, 148], [ 94, 133, 148], ..., [104, 115, 119], [106, 118, 122], [ 89, 101, 105]], [[ 93, 132, 147], [ 93, 132, 147], [ 93, 132, 147], ..., [ 87,  99, 103], [106, 118, 122], [ 81,  93,  97]], [[ 90, 129, 144], [ 90, 129, 144], [ 91, 130, 145], ..., [ 90, 102, 106], [110, 122, 126], [105, 117, 121]]], 0),\n",
       "       (10393, [[[111, 105, 108], [199, 195, 197], [161, 159, 161], ..., [ 98,  97,  93], [ 96,  95,  91], [ 97,  94,  90]], [[107, 101, 103], [205, 201, 203], [166, 163, 165], ..., [106, 106, 101], [105, 104, 100], [106, 103,  99]], [[108, 102, 104], [201, 197, 199], [157, 155, 157], ..., [115, 114, 110], [114, 113, 109], [115, 112, 108]], ..., [[ 25,  30,  29], [ 28,  33,  32], [ 41,  46,  45], ..., [ 45,  47,  45], [ 45,  47,  45], [ 46,  46,  46]], [[ 25,  30,  29], [ 25,  30,  29], [ 32,  38,  37], ..., [ 43,  46,  44], [ 43,  46,  44], [ 45,  43,  42]], [[ 24,  29,  28], [ 24,  29,  28], [ 26,  31,  30], ..., [ 41,  44,  42], [ 41,  44,  42], [ 45,  45,  38]]], 0)],\n",
       "      dtype=[('id', '<u4'), ('pixels', 'u1', (128, 128, 3)), ('label', 'u1')])"
      ]
     },
     "execution_count": 40,
     "metadata": {},
     "output_type": "execute_result"
    }
   ],
   "source": [
    "dataset"
   ]
  },
  {
   "cell_type": "markdown",
   "id": "7441c673-9a1f-470c-a2d3-f3ae1b8bc54a",
   "metadata": {},
   "source": [
    "The pixels column is taken as input X and the labels is the output Y.\n",
    "\n",
    "The pixels column contains of a 128*128*3 pixels array which contains the intensity og RGB colors.\n",
    "\n",
    "As these values of intensity range from 0 to 255 they are divided by 255 to normalise the input to get values between 0 and 1."
   ]
  },
  {
   "cell_type": "code",
   "execution_count": 15,
   "id": "1f4781d5-ccd4-4978-a16f-ab960b4135ce",
   "metadata": {},
   "outputs": [],
   "source": [
    "X = np.stack(dataset['pixels'])\n",
    "Y = np.stack(dataset['label'])"
   ]
  },
  {
   "cell_type": "code",
   "execution_count": 16,
   "id": "6b1ae081-9cc4-45f2-8846-edbafaad9540",
   "metadata": {},
   "outputs": [],
   "source": [
    "X = X/255.0"
   ]
  },
  {
   "cell_type": "code",
   "execution_count": 17,
   "id": "bffec818-841e-4f7f-a10b-5183492d7af9",
   "metadata": {},
   "outputs": [],
   "source": [
    "X_train = X.astype(\"float16\")"
   ]
  },
  {
   "cell_type": "markdown",
   "id": "7904e75f-94a7-4abb-80d6-b776f984e38c",
   "metadata": {},
   "source": [
    "Creating the model\n",
    "\n",
    "This includes 5 layers: 3 convulational layers and 2 dense layers.\n",
    "\n",
    "The convulational layers help to identify patterns or parts in the image that relate to cats or dogs.\n",
    "\n",
    "The output layer is sigmoid to predict the binary output of the neural network."
   ]
  },
  {
   "cell_type": "code",
   "execution_count": 42,
   "id": "583e932a-4cc4-42db-a39a-f35cfe77ab7f",
   "metadata": {},
   "outputs": [
    {
     "name": "stderr",
     "output_type": "stream",
     "text": [
      "C:\\Users\\Sanat\\anaconda3\\Lib\\site-packages\\keras\\src\\layers\\convolutional\\base_conv.py:107: UserWarning: Do not pass an `input_shape`/`input_dim` argument to a layer. When using Sequential models, prefer using an `Input(shape)` object as the first layer in the model instead.\n",
      "  super().__init__(activity_regularizer=activity_regularizer, **kwargs)\n"
     ]
    }
   ],
   "source": [
    "predictor_model = models.Sequential([\n",
    "\n",
    "    layers.Conv2D(32,(3,3),activation='relu',input_shape=(128,128,3)),\n",
    "    layers.MaxPooling2D((2,2)),\n",
    "\n",
    "    layers.Conv2D(64,(3,3),activation='relu'),\n",
    "    layers.MaxPooling2D((2,2)),\n",
    "\n",
    "    layers.Conv2D(128,(3,3),activation='relu'),\n",
    "    layers.MaxPooling2D((2,2)),\n",
    "\n",
    "    layers.Flatten(),\n",
    "    \n",
    "    layers.Dense(128,activation='relu'),\n",
    "    layers.Dropout(0.5),\n",
    "    layers.Dense(1,activation='sigmoid')\n",
    "])    "
   ]
  },
  {
   "cell_type": "code",
   "execution_count": 44,
   "id": "6632218b-8b37-4a47-9059-931dc0081e45",
   "metadata": {},
   "outputs": [],
   "source": [
    "predictor_model.compile(optimizer='adam',\n",
    "              loss='binary_crossentropy',\n",
    "              metrics=['accuracy']\n",
    "             )"
   ]
  },
  {
   "cell_type": "code",
   "execution_count": 46,
   "id": "38c9d34a-7206-4741-b903-c355f75edb60",
   "metadata": {},
   "outputs": [
    {
     "data": {
      "text/html": [
       "<pre style=\"white-space:pre;overflow-x:auto;line-height:normal;font-family:Menlo,'DejaVu Sans Mono',consolas,'Courier New',monospace\"><span style=\"font-weight: bold\">Model: \"sequential\"</span>\n",
       "</pre>\n"
      ],
      "text/plain": [
       "\u001b[1mModel: \"sequential\"\u001b[0m\n"
      ]
     },
     "metadata": {},
     "output_type": "display_data"
    },
    {
     "data": {
      "text/html": [
       "<pre style=\"white-space:pre;overflow-x:auto;line-height:normal;font-family:Menlo,'DejaVu Sans Mono',consolas,'Courier New',monospace\">┏━━━━━━━━━━━━━━━━━━━━━━━━━━━━━━━━━━━━━━┳━━━━━━━━━━━━━━━━━━━━━━━━━━━━━┳━━━━━━━━━━━━━━━━━┓\n",
       "┃<span style=\"font-weight: bold\"> Layer (type)                         </span>┃<span style=\"font-weight: bold\"> Output Shape                </span>┃<span style=\"font-weight: bold\">         Param # </span>┃\n",
       "┡━━━━━━━━━━━━━━━━━━━━━━━━━━━━━━━━━━━━━━╇━━━━━━━━━━━━━━━━━━━━━━━━━━━━━╇━━━━━━━━━━━━━━━━━┩\n",
       "│ conv2d (<span style=\"color: #0087ff; text-decoration-color: #0087ff\">Conv2D</span>)                      │ (<span style=\"color: #00d7ff; text-decoration-color: #00d7ff\">None</span>, <span style=\"color: #00af00; text-decoration-color: #00af00\">126</span>, <span style=\"color: #00af00; text-decoration-color: #00af00\">126</span>, <span style=\"color: #00af00; text-decoration-color: #00af00\">32</span>)        │             <span style=\"color: #00af00; text-decoration-color: #00af00\">896</span> │\n",
       "├──────────────────────────────────────┼─────────────────────────────┼─────────────────┤\n",
       "│ max_pooling2d (<span style=\"color: #0087ff; text-decoration-color: #0087ff\">MaxPooling2D</span>)         │ (<span style=\"color: #00d7ff; text-decoration-color: #00d7ff\">None</span>, <span style=\"color: #00af00; text-decoration-color: #00af00\">63</span>, <span style=\"color: #00af00; text-decoration-color: #00af00\">63</span>, <span style=\"color: #00af00; text-decoration-color: #00af00\">32</span>)          │               <span style=\"color: #00af00; text-decoration-color: #00af00\">0</span> │\n",
       "├──────────────────────────────────────┼─────────────────────────────┼─────────────────┤\n",
       "│ conv2d_1 (<span style=\"color: #0087ff; text-decoration-color: #0087ff\">Conv2D</span>)                    │ (<span style=\"color: #00d7ff; text-decoration-color: #00d7ff\">None</span>, <span style=\"color: #00af00; text-decoration-color: #00af00\">61</span>, <span style=\"color: #00af00; text-decoration-color: #00af00\">61</span>, <span style=\"color: #00af00; text-decoration-color: #00af00\">64</span>)          │          <span style=\"color: #00af00; text-decoration-color: #00af00\">18,496</span> │\n",
       "├──────────────────────────────────────┼─────────────────────────────┼─────────────────┤\n",
       "│ max_pooling2d_1 (<span style=\"color: #0087ff; text-decoration-color: #0087ff\">MaxPooling2D</span>)       │ (<span style=\"color: #00d7ff; text-decoration-color: #00d7ff\">None</span>, <span style=\"color: #00af00; text-decoration-color: #00af00\">30</span>, <span style=\"color: #00af00; text-decoration-color: #00af00\">30</span>, <span style=\"color: #00af00; text-decoration-color: #00af00\">64</span>)          │               <span style=\"color: #00af00; text-decoration-color: #00af00\">0</span> │\n",
       "├──────────────────────────────────────┼─────────────────────────────┼─────────────────┤\n",
       "│ conv2d_2 (<span style=\"color: #0087ff; text-decoration-color: #0087ff\">Conv2D</span>)                    │ (<span style=\"color: #00d7ff; text-decoration-color: #00d7ff\">None</span>, <span style=\"color: #00af00; text-decoration-color: #00af00\">28</span>, <span style=\"color: #00af00; text-decoration-color: #00af00\">28</span>, <span style=\"color: #00af00; text-decoration-color: #00af00\">128</span>)         │          <span style=\"color: #00af00; text-decoration-color: #00af00\">73,856</span> │\n",
       "├──────────────────────────────────────┼─────────────────────────────┼─────────────────┤\n",
       "│ max_pooling2d_2 (<span style=\"color: #0087ff; text-decoration-color: #0087ff\">MaxPooling2D</span>)       │ (<span style=\"color: #00d7ff; text-decoration-color: #00d7ff\">None</span>, <span style=\"color: #00af00; text-decoration-color: #00af00\">14</span>, <span style=\"color: #00af00; text-decoration-color: #00af00\">14</span>, <span style=\"color: #00af00; text-decoration-color: #00af00\">128</span>)         │               <span style=\"color: #00af00; text-decoration-color: #00af00\">0</span> │\n",
       "├──────────────────────────────────────┼─────────────────────────────┼─────────────────┤\n",
       "│ flatten (<span style=\"color: #0087ff; text-decoration-color: #0087ff\">Flatten</span>)                    │ (<span style=\"color: #00d7ff; text-decoration-color: #00d7ff\">None</span>, <span style=\"color: #00af00; text-decoration-color: #00af00\">25088</span>)               │               <span style=\"color: #00af00; text-decoration-color: #00af00\">0</span> │\n",
       "├──────────────────────────────────────┼─────────────────────────────┼─────────────────┤\n",
       "│ dense (<span style=\"color: #0087ff; text-decoration-color: #0087ff\">Dense</span>)                        │ (<span style=\"color: #00d7ff; text-decoration-color: #00d7ff\">None</span>, <span style=\"color: #00af00; text-decoration-color: #00af00\">128</span>)                 │       <span style=\"color: #00af00; text-decoration-color: #00af00\">3,211,392</span> │\n",
       "├──────────────────────────────────────┼─────────────────────────────┼─────────────────┤\n",
       "│ dropout (<span style=\"color: #0087ff; text-decoration-color: #0087ff\">Dropout</span>)                    │ (<span style=\"color: #00d7ff; text-decoration-color: #00d7ff\">None</span>, <span style=\"color: #00af00; text-decoration-color: #00af00\">128</span>)                 │               <span style=\"color: #00af00; text-decoration-color: #00af00\">0</span> │\n",
       "├──────────────────────────────────────┼─────────────────────────────┼─────────────────┤\n",
       "│ dense_1 (<span style=\"color: #0087ff; text-decoration-color: #0087ff\">Dense</span>)                      │ (<span style=\"color: #00d7ff; text-decoration-color: #00d7ff\">None</span>, <span style=\"color: #00af00; text-decoration-color: #00af00\">1</span>)                   │             <span style=\"color: #00af00; text-decoration-color: #00af00\">129</span> │\n",
       "└──────────────────────────────────────┴─────────────────────────────┴─────────────────┘\n",
       "</pre>\n"
      ],
      "text/plain": [
       "┏━━━━━━━━━━━━━━━━━━━━━━━━━━━━━━━━━━━━━━┳━━━━━━━━━━━━━━━━━━━━━━━━━━━━━┳━━━━━━━━━━━━━━━━━┓\n",
       "┃\u001b[1m \u001b[0m\u001b[1mLayer (type)                        \u001b[0m\u001b[1m \u001b[0m┃\u001b[1m \u001b[0m\u001b[1mOutput Shape               \u001b[0m\u001b[1m \u001b[0m┃\u001b[1m \u001b[0m\u001b[1m        Param #\u001b[0m\u001b[1m \u001b[0m┃\n",
       "┡━━━━━━━━━━━━━━━━━━━━━━━━━━━━━━━━━━━━━━╇━━━━━━━━━━━━━━━━━━━━━━━━━━━━━╇━━━━━━━━━━━━━━━━━┩\n",
       "│ conv2d (\u001b[38;5;33mConv2D\u001b[0m)                      │ (\u001b[38;5;45mNone\u001b[0m, \u001b[38;5;34m126\u001b[0m, \u001b[38;5;34m126\u001b[0m, \u001b[38;5;34m32\u001b[0m)        │             \u001b[38;5;34m896\u001b[0m │\n",
       "├──────────────────────────────────────┼─────────────────────────────┼─────────────────┤\n",
       "│ max_pooling2d (\u001b[38;5;33mMaxPooling2D\u001b[0m)         │ (\u001b[38;5;45mNone\u001b[0m, \u001b[38;5;34m63\u001b[0m, \u001b[38;5;34m63\u001b[0m, \u001b[38;5;34m32\u001b[0m)          │               \u001b[38;5;34m0\u001b[0m │\n",
       "├──────────────────────────────────────┼─────────────────────────────┼─────────────────┤\n",
       "│ conv2d_1 (\u001b[38;5;33mConv2D\u001b[0m)                    │ (\u001b[38;5;45mNone\u001b[0m, \u001b[38;5;34m61\u001b[0m, \u001b[38;5;34m61\u001b[0m, \u001b[38;5;34m64\u001b[0m)          │          \u001b[38;5;34m18,496\u001b[0m │\n",
       "├──────────────────────────────────────┼─────────────────────────────┼─────────────────┤\n",
       "│ max_pooling2d_1 (\u001b[38;5;33mMaxPooling2D\u001b[0m)       │ (\u001b[38;5;45mNone\u001b[0m, \u001b[38;5;34m30\u001b[0m, \u001b[38;5;34m30\u001b[0m, \u001b[38;5;34m64\u001b[0m)          │               \u001b[38;5;34m0\u001b[0m │\n",
       "├──────────────────────────────────────┼─────────────────────────────┼─────────────────┤\n",
       "│ conv2d_2 (\u001b[38;5;33mConv2D\u001b[0m)                    │ (\u001b[38;5;45mNone\u001b[0m, \u001b[38;5;34m28\u001b[0m, \u001b[38;5;34m28\u001b[0m, \u001b[38;5;34m128\u001b[0m)         │          \u001b[38;5;34m73,856\u001b[0m │\n",
       "├──────────────────────────────────────┼─────────────────────────────┼─────────────────┤\n",
       "│ max_pooling2d_2 (\u001b[38;5;33mMaxPooling2D\u001b[0m)       │ (\u001b[38;5;45mNone\u001b[0m, \u001b[38;5;34m14\u001b[0m, \u001b[38;5;34m14\u001b[0m, \u001b[38;5;34m128\u001b[0m)         │               \u001b[38;5;34m0\u001b[0m │\n",
       "├──────────────────────────────────────┼─────────────────────────────┼─────────────────┤\n",
       "│ flatten (\u001b[38;5;33mFlatten\u001b[0m)                    │ (\u001b[38;5;45mNone\u001b[0m, \u001b[38;5;34m25088\u001b[0m)               │               \u001b[38;5;34m0\u001b[0m │\n",
       "├──────────────────────────────────────┼─────────────────────────────┼─────────────────┤\n",
       "│ dense (\u001b[38;5;33mDense\u001b[0m)                        │ (\u001b[38;5;45mNone\u001b[0m, \u001b[38;5;34m128\u001b[0m)                 │       \u001b[38;5;34m3,211,392\u001b[0m │\n",
       "├──────────────────────────────────────┼─────────────────────────────┼─────────────────┤\n",
       "│ dropout (\u001b[38;5;33mDropout\u001b[0m)                    │ (\u001b[38;5;45mNone\u001b[0m, \u001b[38;5;34m128\u001b[0m)                 │               \u001b[38;5;34m0\u001b[0m │\n",
       "├──────────────────────────────────────┼─────────────────────────────┼─────────────────┤\n",
       "│ dense_1 (\u001b[38;5;33mDense\u001b[0m)                      │ (\u001b[38;5;45mNone\u001b[0m, \u001b[38;5;34m1\u001b[0m)                   │             \u001b[38;5;34m129\u001b[0m │\n",
       "└──────────────────────────────────────┴─────────────────────────────┴─────────────────┘\n"
      ]
     },
     "metadata": {},
     "output_type": "display_data"
    },
    {
     "data": {
      "text/html": [
       "<pre style=\"white-space:pre;overflow-x:auto;line-height:normal;font-family:Menlo,'DejaVu Sans Mono',consolas,'Courier New',monospace\"><span style=\"font-weight: bold\"> Total params: </span><span style=\"color: #00af00; text-decoration-color: #00af00\">3,304,769</span> (12.61 MB)\n",
       "</pre>\n"
      ],
      "text/plain": [
       "\u001b[1m Total params: \u001b[0m\u001b[38;5;34m3,304,769\u001b[0m (12.61 MB)\n"
      ]
     },
     "metadata": {},
     "output_type": "display_data"
    },
    {
     "data": {
      "text/html": [
       "<pre style=\"white-space:pre;overflow-x:auto;line-height:normal;font-family:Menlo,'DejaVu Sans Mono',consolas,'Courier New',monospace\"><span style=\"font-weight: bold\"> Trainable params: </span><span style=\"color: #00af00; text-decoration-color: #00af00\">3,304,769</span> (12.61 MB)\n",
       "</pre>\n"
      ],
      "text/plain": [
       "\u001b[1m Trainable params: \u001b[0m\u001b[38;5;34m3,304,769\u001b[0m (12.61 MB)\n"
      ]
     },
     "metadata": {},
     "output_type": "display_data"
    },
    {
     "data": {
      "text/html": [
       "<pre style=\"white-space:pre;overflow-x:auto;line-height:normal;font-family:Menlo,'DejaVu Sans Mono',consolas,'Courier New',monospace\"><span style=\"font-weight: bold\"> Non-trainable params: </span><span style=\"color: #00af00; text-decoration-color: #00af00\">0</span> (0.00 B)\n",
       "</pre>\n"
      ],
      "text/plain": [
       "\u001b[1m Non-trainable params: \u001b[0m\u001b[38;5;34m0\u001b[0m (0.00 B)\n"
      ]
     },
     "metadata": {},
     "output_type": "display_data"
    }
   ],
   "source": [
    "predictor_model.summary()"
   ]
  },
  {
   "cell_type": "code",
   "execution_count": 21,
   "id": "793914dc-42dd-4dfa-a569-5569ac7c250c",
   "metadata": {},
   "outputs": [
    {
     "ename": "MemoryError",
     "evalue": "Unable to allocate 3.65 GiB for an array with shape (19956, 49152) and data type float32",
     "output_type": "error",
     "traceback": [
      "\u001b[1;31m---------------------------------------------------------------------------\u001b[0m",
      "\u001b[1;31mMemoryError\u001b[0m                               Traceback (most recent call last)",
      "Cell \u001b[1;32mIn[21], line 1\u001b[0m\n\u001b[1;32m----> 1\u001b[0m predictor_model\u001b[38;5;241m.\u001b[39mfit(X_train,Y,epochs\u001b[38;5;241m=\u001b[39m\u001b[38;5;241m10\u001b[39m,batch_size\u001b[38;5;241m=\u001b[39m\u001b[38;5;241m1000\u001b[39m,validation_split\u001b[38;5;241m=\u001b[39m\u001b[38;5;241m0.2\u001b[39m)\n",
      "File \u001b[1;32m~\\anaconda3\\Lib\\site-packages\\keras\\src\\utils\\traceback_utils.py:122\u001b[0m, in \u001b[0;36mfilter_traceback.<locals>.error_handler\u001b[1;34m(*args, **kwargs)\u001b[0m\n\u001b[0;32m    119\u001b[0m     filtered_tb \u001b[38;5;241m=\u001b[39m _process_traceback_frames(e\u001b[38;5;241m.\u001b[39m__traceback__)\n\u001b[0;32m    120\u001b[0m     \u001b[38;5;66;03m# To get the full stack trace, call:\u001b[39;00m\n\u001b[0;32m    121\u001b[0m     \u001b[38;5;66;03m# `keras.config.disable_traceback_filtering()`\u001b[39;00m\n\u001b[1;32m--> 122\u001b[0m     \u001b[38;5;28;01mraise\u001b[39;00m e\u001b[38;5;241m.\u001b[39mwith_traceback(filtered_tb) \u001b[38;5;28;01mfrom\u001b[39;00m \u001b[38;5;28;01mNone\u001b[39;00m\n\u001b[0;32m    123\u001b[0m \u001b[38;5;28;01mfinally\u001b[39;00m:\n\u001b[0;32m    124\u001b[0m     \u001b[38;5;28;01mdel\u001b[39;00m filtered_tb\n",
      "File \u001b[1;32m~\\anaconda3\\Lib\\site-packages\\tensorflow\\python\\framework\\constant_op.py:96\u001b[0m, in \u001b[0;36mconvert_to_eager_tensor\u001b[1;34m(value, ctx, dtype)\u001b[0m\n\u001b[0;32m     76\u001b[0m \u001b[38;5;250m\u001b[39m\u001b[38;5;124;03m\"\"\"Converts the given `value` to an `EagerTensor`.\u001b[39;00m\n\u001b[0;32m     77\u001b[0m \n\u001b[0;32m     78\u001b[0m \u001b[38;5;124;03mNote that this function could return cached copies of created constants for\u001b[39;00m\n\u001b[1;32m   (...)\u001b[0m\n\u001b[0;32m     90\u001b[0m \u001b[38;5;124;03m  TypeError: if `dtype` is not compatible with the type of t.\u001b[39;00m\n\u001b[0;32m     91\u001b[0m \u001b[38;5;124;03m\"\"\"\u001b[39;00m\n\u001b[0;32m     92\u001b[0m \u001b[38;5;28;01mif\u001b[39;00m \u001b[38;5;28misinstance\u001b[39m(value, np\u001b[38;5;241m.\u001b[39mndarray):\n\u001b[0;32m     93\u001b[0m   \u001b[38;5;66;03m# Make a copy explicitly because the EagerTensor might share the underlying\u001b[39;00m\n\u001b[0;32m     94\u001b[0m   \u001b[38;5;66;03m# memory with the input array. Without this copy, users will be able to\u001b[39;00m\n\u001b[0;32m     95\u001b[0m   \u001b[38;5;66;03m# modify the EagerTensor after its creation by changing the input array.\u001b[39;00m\n\u001b[1;32m---> 96\u001b[0m   value \u001b[38;5;241m=\u001b[39m value\u001b[38;5;241m.\u001b[39mcopy()\n\u001b[0;32m     97\u001b[0m \u001b[38;5;28;01mif\u001b[39;00m \u001b[38;5;28misinstance\u001b[39m(value, ops\u001b[38;5;241m.\u001b[39mEagerTensor):\n\u001b[0;32m     98\u001b[0m   \u001b[38;5;28;01mif\u001b[39;00m dtype \u001b[38;5;129;01mis\u001b[39;00m \u001b[38;5;129;01mnot\u001b[39;00m \u001b[38;5;28;01mNone\u001b[39;00m \u001b[38;5;129;01mand\u001b[39;00m value\u001b[38;5;241m.\u001b[39mdtype \u001b[38;5;241m!=\u001b[39m dtype:\n",
      "\u001b[1;31mMemoryError\u001b[0m: Unable to allocate 3.65 GiB for an array with shape (19956, 49152) and data type float32"
     ]
    }
   ],
   "source": [
    "#predictor_model.fit(X_train,Y,epochs=10,batch_size=1000,validation_split=0.2)"
   ]
  },
  {
   "cell_type": "markdown",
   "id": "aa68ea8c-f749-44cb-86f4-334a659c3850",
   "metadata": {},
   "source": [
    "A batch generator function is defined which takes the complete data and provides it to the model in batches so that the training process and computation can be simplified."
   ]
  },
  {
   "cell_type": "code",
   "execution_count": 66,
   "id": "db63ec39-78ca-4165-8aa7-fc77b7369e8a",
   "metadata": {},
   "outputs": [],
   "source": [
    "def data_generator(data,batch_size):\n",
    "    while True:\n",
    "        for i in range(0,len(data),batch_size):\n",
    "            batch = data[i:i+batch_size]\n",
    "            pixel = np.array([item[1] for item in batch]) / 255.0\n",
    "            label = np.array([item[2] for item in batch])\n",
    "            yield pixel, label\n",
    "        "
   ]
  },
  {
   "cell_type": "code",
   "execution_count": 50,
   "id": "71d09e1f-e2ca-4e57-a2dd-cf51697e8559",
   "metadata": {},
   "outputs": [
    {
     "data": {
      "text/plain": [
       "array([(11419, [[[ 29,  37,  42], [ 39,  48,  52], [ 32,  43,  47], ..., [ 56,  70,  76], [ 34,  51,  57], [ 47,  67,  72]], [[ 41,  50,  54], [ 34,  44,  48], [ 37,  48,  52], ..., [ 68,  82,  89], [ 53,  71,  76], [ 30,  50,  55]], [[ 43,  51,  58], [ 46,  56,  63], [ 48,  60,  66], ..., [ 59,  75,  82], [ 50,  68,  75], [ 46,  65,  72]], ..., [[ 44,  57,  65], [ 38,  55,  59], [ 38,  47,  48], ..., [110, 128, 139], [108, 129, 141], [ 60,  86, 100]], [[ 43,  56,  64], [ 58,  75,  79], [ 48,  59,  60], ..., [100, 118, 129], [ 83, 105, 116], [ 80, 105, 121]], [[ 37,  50,  58], [ 37,  54,  58], [ 52,  63,  64], ..., [ 89, 107, 118], [ 79, 101, 113], [103, 129, 144]]], 0),\n",
       "       (10683, [[[  3,  10,   7], [  3,  10,   7], [  8,  15,  12], ..., [  4,  18,  14], [  4,  18,  14], [  4,  19,  11]], [[  1,   8,   5], [  1,   8,   5], [  2,   9,   6], ..., [  4,  18,  14], [  4,  18,  14], [  5,  20,  13]], [[  2,   9,   6], [  2,   9,   6], [  4,  11,   8], ..., [  4,  18,  14], [  4,  18,  14], [  5,  21,  14]], ..., [[127, 134, 142], [114, 120, 130], [108, 114, 125], ..., [147, 150, 124], [150, 153, 127], [148, 150, 124]], [[121, 125, 136], [108, 114, 125], [114, 123, 133], ..., [147, 150, 124], [147, 151, 124], [152, 152, 126]], [[136, 141, 150], [116, 123, 131], [108, 117, 126], ..., [148, 151, 125], [146, 149, 123], [153, 153, 126]]], 1),\n",
       "       ( 3921, [[[145, 174, 180], [144, 173, 178], [144, 174, 179], ..., [136, 165, 170], [138, 167, 168], [138, 166, 170]], [[142, 173, 176], [144, 174, 178], [147, 175, 182], ..., [142, 169, 172], [140, 167, 168], [138, 166, 168]], [[141, 171, 176], [145, 175, 179], [145, 175, 179], ..., [140, 168, 170], [140, 168, 170], [141, 168, 170]], ..., [[135, 165, 167], [138, 167, 171], [131, 160, 163], ..., [128, 155, 153], [131, 161, 160], [125, 152, 154]], [[139, 167, 169], [131, 163, 165], [109, 141, 146], ..., [134, 163, 164], [133, 167, 168], [109, 156, 145]], [[137, 169, 170], [116, 151, 155], [ 52,  74,  86], ..., [135, 165, 163], [110, 153, 156], [128, 164, 148]]], 1),\n",
       "       ...,\n",
       "       ( 7904, [[[130, 136, 135], [133, 139, 138], [130, 136, 135], ..., [ 83,  96, 108], [ 79,  90, 102], [ 78,  87, 100]], [[135, 141, 140], [132, 138, 137], [135, 141, 140], ..., [ 79,  91, 103], [ 78,  88, 101], [ 78,  87, 100]], [[137, 143, 142], [136, 142, 141], [135, 140, 140], ..., [ 83,  95, 107], [ 75,  86,  99], [ 72,  81,  94]], ..., [[ 60,  72,  84], [ 57,  69,  81], [ 49,  61,  74], ..., [ 52,  51,  53], [ 54,  52,  55], [ 54,  53,  55]], [[ 45,  57,  69], [ 48,  60,  72], [ 48,  60,  72], ..., [ 52,  52,  54], [ 55,  54,  56], [ 49,  48,  50]], [[ 47,  59,  71], [ 48,  60,  72], [ 56,  68,  80], ..., [ 53,  52,  53], [ 50,  49,  51], [ 43,  42,  44]]], 0),\n",
       "       ( 8695, [[[127, 135, 121], [ 53,  59,  47], [174, 159, 146], ..., [ 46,  48,  42], [ 44,  46,  40], [ 44,  49,  34]], [[124, 130, 114], [ 44,  50,  38], [197, 183, 171], ..., [ 43,  45,  39], [ 44,  47,  40], [ 45,  50,  35]], [[140, 142, 125], [ 40,  44,  31], [193, 181, 170], ..., [ 39,  42,  33], [ 45,  48,  39], [ 43,  48,  33]], ..., [[ 92, 131, 146], [ 94, 133, 148], [ 94, 133, 148], ..., [104, 115, 119], [106, 118, 122], [ 89, 101, 105]], [[ 93, 132, 147], [ 93, 132, 147], [ 93, 132, 147], ..., [ 87,  99, 103], [106, 118, 122], [ 81,  93,  97]], [[ 90, 129, 144], [ 90, 129, 144], [ 91, 130, 145], ..., [ 90, 102, 106], [110, 122, 126], [105, 117, 121]]], 0),\n",
       "       (10393, [[[111, 105, 108], [199, 195, 197], [161, 159, 161], ..., [ 98,  97,  93], [ 96,  95,  91], [ 97,  94,  90]], [[107, 101, 103], [205, 201, 203], [166, 163, 165], ..., [106, 106, 101], [105, 104, 100], [106, 103,  99]], [[108, 102, 104], [201, 197, 199], [157, 155, 157], ..., [115, 114, 110], [114, 113, 109], [115, 112, 108]], ..., [[ 25,  30,  29], [ 28,  33,  32], [ 41,  46,  45], ..., [ 45,  47,  45], [ 45,  47,  45], [ 46,  46,  46]], [[ 25,  30,  29], [ 25,  30,  29], [ 32,  38,  37], ..., [ 43,  46,  44], [ 43,  46,  44], [ 45,  43,  42]], [[ 24,  29,  28], [ 24,  29,  28], [ 26,  31,  30], ..., [ 41,  44,  42], [ 41,  44,  42], [ 45,  45,  38]]], 0)],\n",
       "      dtype=[('id', '<u4'), ('pixels', 'u1', (128, 128, 3)), ('label', 'u1')])"
      ]
     },
     "execution_count": 50,
     "metadata": {},
     "output_type": "execute_result"
    }
   ],
   "source": [
    "dataset"
   ]
  },
  {
   "cell_type": "code",
   "execution_count": 52,
   "id": "9dafecbb-f3e8-4fdc-9b01-94f096662a96",
   "metadata": {},
   "outputs": [],
   "source": [
    "split_index = int(0.8*len(dataset))"
   ]
  },
  {
   "cell_type": "code",
   "execution_count": 54,
   "id": "be488147-9296-4fb3-a894-d705bdc30470",
   "metadata": {},
   "outputs": [
    {
     "data": {
      "text/plain": [
       "19956"
      ]
     },
     "execution_count": 54,
     "metadata": {},
     "output_type": "execute_result"
    }
   ],
   "source": [
    "split_index"
   ]
  },
  {
   "cell_type": "markdown",
   "id": "ebf73fc5-05cb-495b-a014-480d10409996",
   "metadata": {},
   "source": [
    "The dataset is divided into training and validation set"
   ]
  },
  {
   "cell_type": "code",
   "execution_count": 56,
   "id": "56ec0aa8-0fdd-4e3f-ba91-ed3ef114275b",
   "metadata": {},
   "outputs": [],
   "source": [
    "train_data = dataset[0:split_index]\n",
    "validation_data = dataset[split_index:]"
   ]
  },
  {
   "cell_type": "code",
   "execution_count": 58,
   "id": "f50b2533-1529-4d4b-8236-ef48d61dcc34",
   "metadata": {},
   "outputs": [
    {
     "data": {
      "text/plain": [
       "19956"
      ]
     },
     "execution_count": 58,
     "metadata": {},
     "output_type": "execute_result"
    }
   ],
   "source": [
    "len(train_data)"
   ]
  },
  {
   "cell_type": "code",
   "execution_count": 68,
   "id": "94c9706d-d5c4-47f1-b3a5-aaa334b9b6a1",
   "metadata": {},
   "outputs": [],
   "source": [
    "train_gen = data_generator(train_data,batch_size=32)\n",
    "val_gen = data_generator(validation_data,batch_size=32)"
   ]
  },
  {
   "cell_type": "markdown",
   "id": "9b370b14-80d9-490b-9334-338ad84fd44a",
   "metadata": {},
   "source": [
    "The model is fit on the training data with validation on the validation set"
   ]
  },
  {
   "cell_type": "code",
   "execution_count": 70,
   "id": "2e67671b-94c3-4c58-9e92-af7795962ab9",
   "metadata": {},
   "outputs": [
    {
     "name": "stdout",
     "output_type": "stream",
     "text": [
      "Epoch 1/10\n",
      "\u001b[1m623/623\u001b[0m \u001b[32m━━━━━━━━━━━━━━━━━━━━\u001b[0m\u001b[37m\u001b[0m \u001b[1m92s\u001b[0m 148ms/step - accuracy: 0.7287 - loss: 0.5358 - val_accuracy: 0.7911 - val_loss: 0.4446\n",
      "Epoch 2/10\n",
      "\u001b[1m623/623\u001b[0m \u001b[32m━━━━━━━━━━━━━━━━━━━━\u001b[0m\u001b[37m\u001b[0m \u001b[1m95s\u001b[0m 152ms/step - accuracy: 0.7840 - loss: 0.4636 - val_accuracy: 0.8054 - val_loss: 0.4178\n",
      "Epoch 3/10\n",
      "\u001b[1m623/623\u001b[0m \u001b[32m━━━━━━━━━━━━━━━━━━━━\u001b[0m\u001b[37m\u001b[0m \u001b[1m93s\u001b[0m 150ms/step - accuracy: 0.8276 - loss: 0.3835 - val_accuracy: 0.8148 - val_loss: 0.4040\n",
      "Epoch 4/10\n",
      "\u001b[1m623/623\u001b[0m \u001b[32m━━━━━━━━━━━━━━━━━━━━\u001b[0m\u001b[37m\u001b[0m \u001b[1m92s\u001b[0m 147ms/step - accuracy: 0.8574 - loss: 0.3273 - val_accuracy: 0.8084 - val_loss: 0.4442\n",
      "Epoch 5/10\n",
      "\u001b[1m623/623\u001b[0m \u001b[32m━━━━━━━━━━━━━━━━━━━━\u001b[0m\u001b[37m\u001b[0m \u001b[1m94s\u001b[0m 151ms/step - accuracy: 0.8843 - loss: 0.2694 - val_accuracy: 0.8201 - val_loss: 0.4637\n",
      "Epoch 6/10\n",
      "\u001b[1m623/623\u001b[0m \u001b[32m━━━━━━━━━━━━━━━━━━━━\u001b[0m\u001b[37m\u001b[0m \u001b[1m98s\u001b[0m 157ms/step - accuracy: 0.9063 - loss: 0.2278 - val_accuracy: 0.8415 - val_loss: 0.4488\n",
      "Epoch 7/10\n",
      "\u001b[1m623/623\u001b[0m \u001b[32m━━━━━━━━━━━━━━━━━━━━\u001b[0m\u001b[37m\u001b[0m \u001b[1m91s\u001b[0m 147ms/step - accuracy: 0.9234 - loss: 0.1896 - val_accuracy: 0.8322 - val_loss: 0.4772\n",
      "Epoch 8/10\n",
      "\u001b[1m623/623\u001b[0m \u001b[32m━━━━━━━━━━━━━━━━━━━━\u001b[0m\u001b[37m\u001b[0m \u001b[1m91s\u001b[0m 146ms/step - accuracy: 0.9376 - loss: 0.1530 - val_accuracy: 0.8437 - val_loss: 0.5019\n",
      "Epoch 9/10\n",
      "\u001b[1m623/623\u001b[0m \u001b[32m━━━━━━━━━━━━━━━━━━━━\u001b[0m\u001b[37m\u001b[0m \u001b[1m92s\u001b[0m 147ms/step - accuracy: 0.9501 - loss: 0.1294 - val_accuracy: 0.8455 - val_loss: 0.5609\n",
      "Epoch 10/10\n",
      "\u001b[1m623/623\u001b[0m \u001b[32m━━━━━━━━━━━━━━━━━━━━\u001b[0m\u001b[37m\u001b[0m \u001b[1m92s\u001b[0m 148ms/step - accuracy: 0.9602 - loss: 0.1004 - val_accuracy: 0.8384 - val_loss: 0.6950\n"
     ]
    },
    {
     "data": {
      "text/plain": [
       "<keras.src.callbacks.history.History at 0x23f632adf40>"
      ]
     },
     "execution_count": 70,
     "metadata": {},
     "output_type": "execute_result"
    }
   ],
   "source": [
    "predictor_model.fit(train_gen,\n",
    "          steps_per_epoch=len(train_data)//32,\n",
    "          validation_data=val_gen,\n",
    "          validation_steps=len(validation_data)//32,\n",
    "          epochs=10)"
   ]
  },
  {
   "cell_type": "code",
   "execution_count": 74,
   "id": "dd1efda2-ee15-4ded-9833-55cd971eddc6",
   "metadata": {},
   "outputs": [],
   "source": [
    "predictor_model.save(\"predictor_model.keras\")"
   ]
  },
  {
   "cell_type": "code",
   "execution_count": 76,
   "id": "2213b2de-a308-47a2-b36a-01af43562a0a",
   "metadata": {},
   "outputs": [],
   "source": [
    "data_path = r\"C:\\Users\\Sanat\\OneDrive\\Desktop\\PROGRAMMING\\projectWork\\catVSdog\\test1\""
   ]
  },
  {
   "cell_type": "markdown",
   "id": "16a9e8c5-5157-449a-bafd-abfae092b9f9",
   "metadata": {},
   "source": [
    "The following code is to carry out the prediction on the test dataset. Unfortunately the correct output predictions of the testing dataset were not provided in the kaggle directory so it was not possible to measure the accuracy of the model on the testing data."
   ]
  },
  {
   "cell_type": "code",
   "execution_count": 86,
   "id": "8a7811eb-f823-430e-b2d4-d1ca0186a03a",
   "metadata": {},
   "outputs": [],
   "source": [
    "img_size = 128\n",
    "data = []\n",
    "for img in os.listdir(data_path):\n",
    "    img_path = os.path.join(data_path,img)\n",
    "    id = int(img.replace(\".jpg\",\"\"))  \n",
    "    img_arr = cv2.imread(img_path)\n",
    "    img_arr = cv2.resize(img_arr,(img_size,img_size))\n",
    "    data.append([id,img_arr])"
   ]
  },
  {
   "cell_type": "code",
   "execution_count": 90,
   "id": "61f9e981-a173-4151-bd22-c9d6db7939a1",
   "metadata": {},
   "outputs": [
    {
     "data": {
      "text/plain": [
       "12500"
      ]
     },
     "execution_count": 90,
     "metadata": {},
     "output_type": "execute_result"
    }
   ],
   "source": [
    "len(data)"
   ]
  },
  {
   "cell_type": "code",
   "execution_count": 98,
   "id": "67f3964f-d8c4-4a73-808e-ab7a0baf9a6c",
   "metadata": {},
   "outputs": [],
   "source": [
    "test_ids = np.array([item[0] for item in data], dtype=np.uint32)\n",
    "test_images = np.array([item[1] for item in data], dtype=np.uint8)"
   ]
  },
  {
   "cell_type": "code",
   "execution_count": 100,
   "id": "f4441ecc-2028-4391-9941-0740f6f951bf",
   "metadata": {},
   "outputs": [],
   "source": [
    "test_images = test_images/255.0"
   ]
  },
  {
   "cell_type": "code",
   "execution_count": 102,
   "id": "6414d871-07ee-4caa-961c-0fbe37a703af",
   "metadata": {},
   "outputs": [
    {
     "name": "stdout",
     "output_type": "stream",
     "text": [
      "\u001b[1m391/391\u001b[0m \u001b[32m━━━━━━━━━━━━━━━━━━━━\u001b[0m\u001b[37m\u001b[0m \u001b[1m21s\u001b[0m 51ms/step\n"
     ]
    }
   ],
   "source": [
    "y_predicted = predictor_model.predict(test_images)"
   ]
  },
  {
   "cell_type": "code",
   "execution_count": 104,
   "id": "2adef2e8-66c8-45d3-bcfd-6ae4b2d3f00d",
   "metadata": {},
   "outputs": [
    {
     "data": {
      "text/plain": [
       "12500"
      ]
     },
     "execution_count": 104,
     "metadata": {},
     "output_type": "execute_result"
    }
   ],
   "source": [
    "len(y_predicted)"
   ]
  },
  {
   "cell_type": "code",
   "execution_count": 110,
   "id": "4b406a5d-2d87-449d-9403-34dd941eddaa",
   "metadata": {},
   "outputs": [],
   "source": [
    "predicted_classes = (y_predicted > 0.5).astype(\"int\")"
   ]
  },
  {
   "cell_type": "code",
   "execution_count": 114,
   "id": "191b3ba9-0279-4a1f-91d4-2483c1a37540",
   "metadata": {},
   "outputs": [
    {
     "data": {
      "text/plain": [
       "array([[1],\n",
       "       [0],\n",
       "       [0],\n",
       "       ...,\n",
       "       [1],\n",
       "       [0],\n",
       "       [0]])"
      ]
     },
     "execution_count": 114,
     "metadata": {},
     "output_type": "execute_result"
    }
   ],
   "source": [
    "predicted_classes"
   ]
  },
  {
   "cell_type": "code",
   "execution_count": 116,
   "id": "185d8651-548f-48ea-9d7c-51d61b1feaf4",
   "metadata": {},
   "outputs": [
    {
     "name": "stderr",
     "output_type": "stream",
     "text": [
      "C:\\Users\\Sanat\\AppData\\Local\\Temp\\ipykernel_16736\\1263620585.py:2: DeprecationWarning: Conversion of an array with ndim > 0 to a scalar is deprecated, and will error in future. Ensure you extract a single element from your array before performing this operation. (Deprecated NumPy 1.25.)\n",
      "  test_results = np.array(list(zip(test_ids,predicted_classes)),dtype=data_type)\n"
     ]
    }
   ],
   "source": [
    "data_type = [(\"id\",np.uint32),(\"label\",np.uint8)]\n",
    "test_results = np.array(list(zip(test_ids,predicted_classes)),dtype=data_type)"
   ]
  },
  {
   "cell_type": "code",
   "execution_count": 118,
   "id": "e8b5ad7a-1c95-4c24-88b9-f9dbda87e939",
   "metadata": {},
   "outputs": [
    {
     "data": {
      "text/plain": [
       "array([(   1, 1), (  10, 0), ( 100, 0), ..., (9997, 1), (9998, 0),\n",
       "       (9999, 0)], dtype=[('id', '<u4'), ('label', 'u1')])"
      ]
     },
     "execution_count": 118,
     "metadata": {},
     "output_type": "execute_result"
    }
   ],
   "source": [
    "test_results"
   ]
  },
  {
   "cell_type": "code",
   "execution_count": 122,
   "id": "8bba677c-174d-4505-ab1a-aa7f4003c511",
   "metadata": {},
   "outputs": [
    {
     "data": {
      "text/plain": [
       "12500"
      ]
     },
     "execution_count": 122,
     "metadata": {},
     "output_type": "execute_result"
    }
   ],
   "source": [
    "len(test_results)"
   ]
  },
  {
   "cell_type": "code",
   "execution_count": 128,
   "id": "a39592ad-339c-41a1-a379-4a3089b3ca72",
   "metadata": {},
   "outputs": [
    {
     "ename": "TypeError",
     "evalue": "'numpy.dtypes.VoidDType' object is not callable",
     "output_type": "error",
     "traceback": [
      "\u001b[1;31m---------------------------------------------------------------------------\u001b[0m",
      "\u001b[1;31mTypeError\u001b[0m                                 Traceback (most recent call last)",
      "Cell \u001b[1;32mIn[128], line 1\u001b[0m\n\u001b[1;32m----> 1\u001b[0m test_results\u001b[38;5;241m.\u001b[39mdtype()\n",
      "\u001b[1;31mTypeError\u001b[0m: 'numpy.dtypes.VoidDType' object is not callable"
     ]
    }
   ],
   "source": [
    "test_results.dtype()"
   ]
  },
  {
   "cell_type": "code",
   "execution_count": 130,
   "id": "8ece80fe-4b1f-41cc-ac34-a28d231e0dd2",
   "metadata": {},
   "outputs": [],
   "source": [
    "test_results_final = pd.DataFrame(test_results)"
   ]
  },
  {
   "cell_type": "code",
   "execution_count": 132,
   "id": "ee6c5e62-5301-4be6-97bc-250063358516",
   "metadata": {},
   "outputs": [
    {
     "data": {
      "text/html": [
       "<div>\n",
       "<style scoped>\n",
       "    .dataframe tbody tr th:only-of-type {\n",
       "        vertical-align: middle;\n",
       "    }\n",
       "\n",
       "    .dataframe tbody tr th {\n",
       "        vertical-align: top;\n",
       "    }\n",
       "\n",
       "    .dataframe thead th {\n",
       "        text-align: right;\n",
       "    }\n",
       "</style>\n",
       "<table border=\"1\" class=\"dataframe\">\n",
       "  <thead>\n",
       "    <tr style=\"text-align: right;\">\n",
       "      <th></th>\n",
       "      <th>id</th>\n",
       "      <th>label</th>\n",
       "    </tr>\n",
       "  </thead>\n",
       "  <tbody>\n",
       "    <tr>\n",
       "      <th>0</th>\n",
       "      <td>1</td>\n",
       "      <td>1</td>\n",
       "    </tr>\n",
       "    <tr>\n",
       "      <th>1</th>\n",
       "      <td>10</td>\n",
       "      <td>0</td>\n",
       "    </tr>\n",
       "    <tr>\n",
       "      <th>2</th>\n",
       "      <td>100</td>\n",
       "      <td>0</td>\n",
       "    </tr>\n",
       "    <tr>\n",
       "      <th>3</th>\n",
       "      <td>1000</td>\n",
       "      <td>1</td>\n",
       "    </tr>\n",
       "    <tr>\n",
       "      <th>4</th>\n",
       "      <td>10000</td>\n",
       "      <td>1</td>\n",
       "    </tr>\n",
       "    <tr>\n",
       "      <th>...</th>\n",
       "      <td>...</td>\n",
       "      <td>...</td>\n",
       "    </tr>\n",
       "    <tr>\n",
       "      <th>12495</th>\n",
       "      <td>9995</td>\n",
       "      <td>0</td>\n",
       "    </tr>\n",
       "    <tr>\n",
       "      <th>12496</th>\n",
       "      <td>9996</td>\n",
       "      <td>1</td>\n",
       "    </tr>\n",
       "    <tr>\n",
       "      <th>12497</th>\n",
       "      <td>9997</td>\n",
       "      <td>1</td>\n",
       "    </tr>\n",
       "    <tr>\n",
       "      <th>12498</th>\n",
       "      <td>9998</td>\n",
       "      <td>0</td>\n",
       "    </tr>\n",
       "    <tr>\n",
       "      <th>12499</th>\n",
       "      <td>9999</td>\n",
       "      <td>0</td>\n",
       "    </tr>\n",
       "  </tbody>\n",
       "</table>\n",
       "<p>12500 rows × 2 columns</p>\n",
       "</div>"
      ],
      "text/plain": [
       "          id  label\n",
       "0          1      1\n",
       "1         10      0\n",
       "2        100      0\n",
       "3       1000      1\n",
       "4      10000      1\n",
       "...      ...    ...\n",
       "12495   9995      0\n",
       "12496   9996      1\n",
       "12497   9997      1\n",
       "12498   9998      0\n",
       "12499   9999      0\n",
       "\n",
       "[12500 rows x 2 columns]"
      ]
     },
     "execution_count": 132,
     "metadata": {},
     "output_type": "execute_result"
    }
   ],
   "source": [
    "test_results_final"
   ]
  },
  {
   "cell_type": "code",
   "execution_count": 136,
   "id": "7bf9f759-bfde-45da-9441-7ff597aea527",
   "metadata": {},
   "outputs": [],
   "source": [
    "df_sorted = test_results_final.sort_values(by=\"id\").reset_index(drop=True)"
   ]
  },
  {
   "cell_type": "code",
   "execution_count": 138,
   "id": "33ceb481-b499-4ccd-abc5-3b83b840ed18",
   "metadata": {},
   "outputs": [
    {
     "data": {
      "text/html": [
       "<div>\n",
       "<style scoped>\n",
       "    .dataframe tbody tr th:only-of-type {\n",
       "        vertical-align: middle;\n",
       "    }\n",
       "\n",
       "    .dataframe tbody tr th {\n",
       "        vertical-align: top;\n",
       "    }\n",
       "\n",
       "    .dataframe thead th {\n",
       "        text-align: right;\n",
       "    }\n",
       "</style>\n",
       "<table border=\"1\" class=\"dataframe\">\n",
       "  <thead>\n",
       "    <tr style=\"text-align: right;\">\n",
       "      <th></th>\n",
       "      <th>id</th>\n",
       "      <th>label</th>\n",
       "    </tr>\n",
       "  </thead>\n",
       "  <tbody>\n",
       "    <tr>\n",
       "      <th>0</th>\n",
       "      <td>1</td>\n",
       "      <td>1</td>\n",
       "    </tr>\n",
       "    <tr>\n",
       "      <th>1</th>\n",
       "      <td>2</td>\n",
       "      <td>1</td>\n",
       "    </tr>\n",
       "    <tr>\n",
       "      <th>2</th>\n",
       "      <td>3</td>\n",
       "      <td>1</td>\n",
       "    </tr>\n",
       "    <tr>\n",
       "      <th>3</th>\n",
       "      <td>4</td>\n",
       "      <td>1</td>\n",
       "    </tr>\n",
       "    <tr>\n",
       "      <th>4</th>\n",
       "      <td>5</td>\n",
       "      <td>0</td>\n",
       "    </tr>\n",
       "    <tr>\n",
       "      <th>...</th>\n",
       "      <td>...</td>\n",
       "      <td>...</td>\n",
       "    </tr>\n",
       "    <tr>\n",
       "      <th>12495</th>\n",
       "      <td>12496</td>\n",
       "      <td>0</td>\n",
       "    </tr>\n",
       "    <tr>\n",
       "      <th>12496</th>\n",
       "      <td>12497</td>\n",
       "      <td>0</td>\n",
       "    </tr>\n",
       "    <tr>\n",
       "      <th>12497</th>\n",
       "      <td>12498</td>\n",
       "      <td>1</td>\n",
       "    </tr>\n",
       "    <tr>\n",
       "      <th>12498</th>\n",
       "      <td>12499</td>\n",
       "      <td>1</td>\n",
       "    </tr>\n",
       "    <tr>\n",
       "      <th>12499</th>\n",
       "      <td>12500</td>\n",
       "      <td>0</td>\n",
       "    </tr>\n",
       "  </tbody>\n",
       "</table>\n",
       "<p>12500 rows × 2 columns</p>\n",
       "</div>"
      ],
      "text/plain": [
       "          id  label\n",
       "0          1      1\n",
       "1          2      1\n",
       "2          3      1\n",
       "3          4      1\n",
       "4          5      0\n",
       "...      ...    ...\n",
       "12495  12496      0\n",
       "12496  12497      0\n",
       "12497  12498      1\n",
       "12498  12499      1\n",
       "12499  12500      0\n",
       "\n",
       "[12500 rows x 2 columns]"
      ]
     },
     "execution_count": 138,
     "metadata": {},
     "output_type": "execute_result"
    }
   ],
   "source": [
    "df_sorted"
   ]
  },
  {
   "cell_type": "code",
   "execution_count": 140,
   "id": "cbe0cb6b-6c32-4b45-a002-b4da5caa59de",
   "metadata": {},
   "outputs": [],
   "source": [
    "df_sorted.to_csv('final_results')"
   ]
  },
  {
   "cell_type": "markdown",
   "id": "4760219d-93c4-4b2a-a573-c6ff25eed106",
   "metadata": {},
   "source": [
    "END OF CODE"
   ]
  },
  {
   "cell_type": "code",
   "execution_count": null,
   "id": "2af16fa2-9bde-494a-89a1-a1ac2e514031",
   "metadata": {},
   "outputs": [],
   "source": []
  }
 ],
 "metadata": {
  "kernelspec": {
   "display_name": "Python 3 (ipykernel)",
   "language": "python",
   "name": "python3"
  },
  "language_info": {
   "codemirror_mode": {
    "name": "ipython",
    "version": 3
   },
   "file_extension": ".py",
   "mimetype": "text/x-python",
   "name": "python",
   "nbconvert_exporter": "python",
   "pygments_lexer": "ipython3",
   "version": "3.12.4"
  }
 },
 "nbformat": 4,
 "nbformat_minor": 5
}
